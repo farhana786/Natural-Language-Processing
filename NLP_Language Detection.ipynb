{
 "cells": [
  {
   "cell_type": "markdown",
   "id": "879da576",
   "metadata": {},
   "source": [
    "# NLP Project- Language Detection"
   ]
  },
  {
   "cell_type": "code",
   "execution_count": null,
   "id": "bff6ca42",
   "metadata": {},
   "outputs": [],
   "source": [
    "# Importing libraries\n",
    "import pandas as pd\n",
    "import numpy as np\n",
    "import re\n",
    "import string\n",
    "import matplotlib.pyplot as plt\n",
    "import seaborn as sns"
   ]
  },
  {
   "cell_type": "code",
   "execution_count": null,
   "id": "c40d4dec",
   "metadata": {},
   "outputs": [],
   "source": [
    "df = pd.read_csv('D:\\Research\\_KLU\\Programs implemented so far\\Language Detection_NLP\\Language Detection.csv') #upload dataset\n",
    "df.head()"
   ]
  },
  {
   "cell_type": "code",
   "execution_count": 3,
   "id": "efdfc59f",
   "metadata": {},
   "outputs": [],
   "source": [
    "# Method to remove all punctuation marks\n",
    "def remove_pun(text):\n",
    "    for pun in string.punctuation:\n",
    "        text = text.replace(pun,\"\")\n",
    "    text = text.lower()\n",
    "    return text"
   ]
  },
  {
   "cell_type": "code",
   "execution_count": 4,
   "id": "942ed690",
   "metadata": {},
   "outputs": [
    {
     "data": {
      "text/html": [
       "<div>\n",
       "<style scoped>\n",
       "    .dataframe tbody tr th:only-of-type {\n",
       "        vertical-align: middle;\n",
       "    }\n",
       "\n",
       "    .dataframe tbody tr th {\n",
       "        vertical-align: top;\n",
       "    }\n",
       "\n",
       "    .dataframe thead th {\n",
       "        text-align: right;\n",
       "    }\n",
       "</style>\n",
       "<table border=\"1\" class=\"dataframe\">\n",
       "  <thead>\n",
       "    <tr style=\"text-align: right;\">\n",
       "      <th></th>\n",
       "      <th>Text</th>\n",
       "      <th>Language</th>\n",
       "    </tr>\n",
       "  </thead>\n",
       "  <tbody>\n",
       "    <tr>\n",
       "      <th>0</th>\n",
       "      <td>nature in the broadest sense is the natural p...</td>\n",
       "      <td>English</td>\n",
       "    </tr>\n",
       "    <tr>\n",
       "      <th>1</th>\n",
       "      <td>nature can refer to the phenomena of the physi...</td>\n",
       "      <td>English</td>\n",
       "    </tr>\n",
       "    <tr>\n",
       "      <th>2</th>\n",
       "      <td>the study of nature is a large if not the only...</td>\n",
       "      <td>English</td>\n",
       "    </tr>\n",
       "    <tr>\n",
       "      <th>3</th>\n",
       "      <td>although humans are part of nature human activ...</td>\n",
       "      <td>English</td>\n",
       "    </tr>\n",
       "    <tr>\n",
       "      <th>4</th>\n",
       "      <td>1 the word nature is borrowed from the old fre...</td>\n",
       "      <td>English</td>\n",
       "    </tr>\n",
       "  </tbody>\n",
       "</table>\n",
       "</div>"
      ],
      "text/plain": [
       "                                                Text Language\n",
       "0   nature in the broadest sense is the natural p...  English\n",
       "1  nature can refer to the phenomena of the physi...  English\n",
       "2  the study of nature is a large if not the only...  English\n",
       "3  although humans are part of nature human activ...  English\n",
       "4  1 the word nature is borrowed from the old fre...  English"
      ]
     },
     "execution_count": 4,
     "metadata": {},
     "output_type": "execute_result"
    }
   ],
   "source": [
    "df['Text'] = df['Text'].apply(remove_pun) #involking the method to remove punctuation marks from text field\n",
    "df.head()"
   ]
  },
  {
   "cell_type": "code",
   "execution_count": 5,
   "id": "692baacc",
   "metadata": {},
   "outputs": [],
   "source": [
    "from sklearn.model_selection import train_test_split"
   ]
  },
  {
   "cell_type": "code",
   "execution_count": 6,
   "id": "2f84b56c",
   "metadata": {},
   "outputs": [],
   "source": [
    "X = df.iloc[:,0] #extracing all rows and 0th column\n",
    "Y = df.iloc[:,1] #extracing all rows and 1st column"
   ]
  },
  {
   "cell_type": "code",
   "execution_count": 7,
   "id": "7d0b69ed",
   "metadata": {},
   "outputs": [
    {
     "data": {
      "text/plain": [
       "0         nature in the broadest sense is the natural p...\n",
       "1        nature can refer to the phenomena of the physi...\n",
       "2        the study of nature is a large if not the only...\n",
       "3        although humans are part of nature human activ...\n",
       "4        1 the word nature is borrowed from the old fre...\n",
       "                               ...                        \n",
       "10332    ನಿಮ್ಮ ತಪ್ಪು ಏನು ಬಂದಿದೆಯೆಂದರೆ ಆ ದಿನದಿಂದ ನಿಮಗೆ ಒ...\n",
       "10333    ನಾರ್ಸಿಸಾ ತಾನು ಮೊದಲಿಗೆ ಹೆಣಗಾಡುತ್ತಿದ್ದ ಮಾರ್ಗಗಳನ್...\n",
       "10334    ಹೇಗೆ  ನಾರ್ಸಿಸಿಸಮ್ ಈಗ ಮರಿಯನ್ ಅವರಿಗೆ ಸಂಭವಿಸಿದ ಎಲ...\n",
       "10335    ಅವಳು ಈಗ ಹೆಚ್ಚು ಚಿನ್ನದ ಬ್ರೆಡ್ ಬಯಸುವುದಿಲ್ಲ ಎಂದು ...\n",
       "10336    ಟೆರ್ರಿ ನೀವು ನಿಜವಾಗಿಯೂ ಆ ದೇವದೂತನಂತೆ ಸ್ವಲ್ಪ ಕಾಣು...\n",
       "Name: Text, Length: 10337, dtype: object"
      ]
     },
     "execution_count": 7,
     "metadata": {},
     "output_type": "execute_result"
    }
   ],
   "source": [
    "X #extracted all the Text in X variable"
   ]
  },
  {
   "cell_type": "code",
   "execution_count": 8,
   "id": "1fccc23e",
   "metadata": {},
   "outputs": [
    {
     "data": {
      "text/plain": [
       "0        English\n",
       "1        English\n",
       "2        English\n",
       "3        English\n",
       "4        English\n",
       "          ...   \n",
       "10332    Kannada\n",
       "10333    Kannada\n",
       "10334    Kannada\n",
       "10335    Kannada\n",
       "10336    Kannada\n",
       "Name: Language, Length: 10337, dtype: object"
      ]
     },
     "execution_count": 8,
     "metadata": {},
     "output_type": "execute_result"
    }
   ],
   "source": [
    "Y #extracted all the Languages in Y variable"
   ]
  },
  {
   "cell_type": "code",
   "execution_count": 9,
   "id": "54c4be68",
   "metadata": {},
   "outputs": [],
   "source": [
    "X_train, X_test, y_train, y_test = train_test_split(X,Y,test_size = 0.2)"
   ]
  },
  {
   "cell_type": "code",
   "execution_count": 10,
   "id": "bd5d18c6",
   "metadata": {},
   "outputs": [
    {
     "data": {
      "text/plain": [
       "((8269,), (2068,))"
      ]
     },
     "execution_count": 10,
     "metadata": {},
     "output_type": "execute_result"
    }
   ],
   "source": [
    "X_train.shape, X_test.shape"
   ]
  },
  {
   "cell_type": "code",
   "execution_count": 11,
   "id": "7467437b",
   "metadata": {},
   "outputs": [],
   "source": [
    "# importing necessaring libraries for vectorization, model building and pipeline from scikitlearn module\n",
    "from sklearn import feature_extraction\n",
    "from sklearn import linear_model\n",
    "from sklearn import pipeline"
   ]
  },
  {
   "cell_type": "code",
   "execution_count": 12,
   "id": "d96c96ac",
   "metadata": {},
   "outputs": [],
   "source": [
    "vec = feature_extraction.text.TfidfVectorizer(ngram_range=(1,2),analyzer='char') #unigram & bigram"
   ]
  },
  {
   "cell_type": "code",
   "execution_count": 13,
   "id": "c3bd5c49",
   "metadata": {},
   "outputs": [],
   "source": [
    "model_vec_pipe = pipeline.Pipeline([('vec',vec),('clf',linear_model.LogisticRegression())]) #creating a pipeline of vectorizer and model"
   ]
  },
  {
   "cell_type": "code",
   "execution_count": 14,
   "id": "fd038d6a",
   "metadata": {},
   "outputs": [
    {
     "data": {
      "text/plain": [
       "Pipeline(steps=[('vec', TfidfVectorizer(analyzer='char', ngram_range=(1, 2))),\n",
       "                ('clf', LogisticRegression())])"
      ]
     },
     "execution_count": 14,
     "metadata": {},
     "output_type": "execute_result"
    }
   ],
   "source": [
    "model_vec_pipe.fit(X_train,y_train)"
   ]
  },
  {
   "cell_type": "code",
   "execution_count": 15,
   "id": "85732515",
   "metadata": {},
   "outputs": [],
   "source": [
    "predicted = model_vec_pipe.predict(X_test)"
   ]
  },
  {
   "cell_type": "code",
   "execution_count": 16,
   "id": "705ad966",
   "metadata": {},
   "outputs": [],
   "source": [
    "from sklearn.metrics import accuracy_score, confusion_matrix"
   ]
  },
  {
   "cell_type": "code",
   "execution_count": 17,
   "id": "2501671a",
   "metadata": {},
   "outputs": [],
   "source": [
    "accuracy_score(y_test,predicted)*100\n",
    "cm = confusion_matrix(y_test,predicted)"
   ]
  },
  {
   "cell_type": "code",
   "execution_count": 18,
   "id": "e09fcee7",
   "metadata": {},
   "outputs": [
    {
     "data": {
      "text/plain": [
       "[Text(0, 0.5, 'English'),\n",
       " Text(0, 1.5, 'Malayalam'),\n",
       " Text(0, 2.5, 'Hindi'),\n",
       " Text(0, 3.5, 'Tamil'),\n",
       " Text(0, 4.5, 'Portugeese'),\n",
       " Text(0, 5.5, 'French'),\n",
       " Text(0, 6.5, 'Dutch'),\n",
       " Text(0, 7.5, 'Spanish'),\n",
       " Text(0, 8.5, 'Greek'),\n",
       " Text(0, 9.5, 'Russian'),\n",
       " Text(0, 10.5, 'Danish'),\n",
       " Text(0, 11.5, 'Italian'),\n",
       " Text(0, 12.5, 'Turkish'),\n",
       " Text(0, 13.5, 'Sweedish'),\n",
       " Text(0, 14.5, 'Arabic'),\n",
       " Text(0, 15.5, 'German'),\n",
       " Text(0, 16.5, 'Kannada')]"
      ]
     },
     "execution_count": 18,
     "metadata": {},
     "output_type": "execute_result"
    },
    {
     "data": {
      "image/png": "[encoded data removed]",
      "text/plain": [
       "<Figure size 1296x1152 with 2 Axes>"
      ]
     },
     "metadata": {
      "needs_background": "light"
     },
     "output_type": "display_data"
    }
   ],
   "source": [
    "plt.figure(figsize = (18,16))\n",
    "s = sns.heatmap(cm, annot=True, fmt='')\n",
    "s.xaxis.set_ticklabels(['English', 'Malayalam', 'Hindi', 'Tamil', 'Portugeese', 'French','Dutch', 'Spanish', 'Greek', 'Russian', 'Danish', 'Italian','Turkish', 'Sweedish', 'Arabic', 'German', 'Kannada'])\n",
    "s.yaxis.set_ticklabels(['English', 'Malayalam', 'Hindi', 'Tamil', 'Portugeese', 'French','Dutch', 'Spanish', 'Greek', 'Russian', 'Danish', 'Italian','Turkish', 'Sweedish', 'Arabic', 'German', 'Kannada'])"
   ]
  },
  {
   "cell_type": "code",
   "execution_count": 19,
   "id": "5bbf107b",
   "metadata": {},
   "outputs": [
    {
     "data": {
      "text/plain": [
       "array(['English'], dtype=object)"
      ]
     },
     "execution_count": 19,
     "metadata": {},
     "output_type": "execute_result"
    }
   ],
   "source": [
    "model_vec_pipe.predict(['Hello there , My name is Farhana.'])"
   ]
  },
  {
   "cell_type": "code",
   "execution_count": 20,
   "id": "0ba6adf7",
   "metadata": {},
   "outputs": [],
   "source": [
    "import pickle\n",
    "new_file = open('model.pckl','wb')\n",
    "pickle.dump(model_vec_pipe,new_file)\n",
    "new_file.close()"
   ]
  }
 ],
 "metadata": {
  "kernelspec": {
   "display_name": "Python 3",
   "language": "python",
   "name": "python3"
  },
  "language_info": {
   "codemirror_mode": {
    "name": "ipython",
    "version": 3
   },
   "file_extension": ".py",
   "mimetype": "text/x-python",
   "name": "python",
   "nbconvert_exporter": "python",
   "pygments_lexer": "ipython3",
   "version": "3.8.8"
  }
 },
 "nbformat": 4,
 "nbformat_minor": 5
}
